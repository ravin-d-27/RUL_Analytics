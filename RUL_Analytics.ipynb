{
 "cells": [
  {
   "cell_type": "markdown",
   "id": "fe8f581e",
   "metadata": {},
   "source": [
    "# Prognosis based on Varying Data Quality"
   ]
  },
  {
   "cell_type": "markdown",
   "id": "f1a8f869",
   "metadata": {},
   "source": [
    "##### Imagine we have filters that get dirty over time when they're used to clean the air. We want to predict how long these filters will last before they stop working properly."
   ]
  },
  {
   "cell_type": "markdown",
   "id": "7bcbf873",
   "metadata": {},
   "source": [
    "## Importing the Libraries"
   ]
  },
  {
   "cell_type": "code",
   "execution_count": 1,
   "id": "816c0564",
   "metadata": {},
   "outputs": [],
   "source": [
    "import pandas as pd\n",
    "import numpy as np\n",
    "import matplotlib.pyplot as plt\n",
    "import seaborn as sns"
   ]
  },
  {
   "cell_type": "markdown",
   "id": "8e5f19be",
   "metadata": {},
   "source": [
    "## Reading the Dataset"
   ]
  },
  {
   "cell_type": "code",
   "execution_count": 2,
   "id": "a03200ea",
   "metadata": {},
   "outputs": [],
   "source": [
    "dataset = pd.read_csv(\"Train_Data_CSV.csv\")"
   ]
  },
  {
   "cell_type": "code",
   "execution_count": 3,
   "id": "8f685b7c",
   "metadata": {},
   "outputs": [
    {
     "data": {
      "text/html": [
       "<div>\n",
       "<style scoped>\n",
       "    .dataframe tbody tr th:only-of-type {\n",
       "        vertical-align: middle;\n",
       "    }\n",
       "\n",
       "    .dataframe tbody tr th {\n",
       "        vertical-align: top;\n",
       "    }\n",
       "\n",
       "    .dataframe thead th {\n",
       "        text-align: right;\n",
       "    }\n",
       "</style>\n",
       "<table border=\"1\" class=\"dataframe\">\n",
       "  <thead>\n",
       "    <tr style=\"text-align: right;\">\n",
       "      <th></th>\n",
       "      <th>Data_No</th>\n",
       "      <th>Differential_pressure</th>\n",
       "      <th>Flow_rate</th>\n",
       "      <th>Time</th>\n",
       "      <th>Dust_feed</th>\n",
       "      <th>Sampling</th>\n",
       "      <th>Bias_type</th>\n",
       "      <th>RUL</th>\n",
       "    </tr>\n",
       "  </thead>\n",
       "  <tbody>\n",
       "    <tr>\n",
       "      <th>0</th>\n",
       "      <td>1</td>\n",
       "      <td>11.017769</td>\n",
       "      <td>34.500433</td>\n",
       "      <td>0.1</td>\n",
       "      <td>131.1</td>\n",
       "      <td>10</td>\n",
       "      <td>b</td>\n",
       "      <td>177.313137</td>\n",
       "    </tr>\n",
       "    <tr>\n",
       "      <th>1</th>\n",
       "      <td>1</td>\n",
       "      <td>0.000000</td>\n",
       "      <td>61.536411</td>\n",
       "      <td>0.2</td>\n",
       "      <td>131.0</td>\n",
       "      <td>10</td>\n",
       "      <td>b</td>\n",
       "      <td>177.313137</td>\n",
       "    </tr>\n",
       "    <tr>\n",
       "      <th>2</th>\n",
       "      <td>1</td>\n",
       "      <td>4.055263</td>\n",
       "      <td>72.332438</td>\n",
       "      <td>0.3</td>\n",
       "      <td>130.9</td>\n",
       "      <td>10</td>\n",
       "      <td>b</td>\n",
       "      <td>177.313137</td>\n",
       "    </tr>\n",
       "    <tr>\n",
       "      <th>3</th>\n",
       "      <td>1</td>\n",
       "      <td>0.000000</td>\n",
       "      <td>77.133230</td>\n",
       "      <td>0.4</td>\n",
       "      <td>130.8</td>\n",
       "      <td>10</td>\n",
       "      <td>b</td>\n",
       "      <td>177.313137</td>\n",
       "    </tr>\n",
       "    <tr>\n",
       "      <th>4</th>\n",
       "      <td>1</td>\n",
       "      <td>0.000000</td>\n",
       "      <td>79.470820</td>\n",
       "      <td>0.5</td>\n",
       "      <td>130.7</td>\n",
       "      <td>10</td>\n",
       "      <td>b</td>\n",
       "      <td>177.313137</td>\n",
       "    </tr>\n",
       "  </tbody>\n",
       "</table>\n",
       "</div>"
      ],
      "text/plain": [
       "   Data_No  Differential_pressure  Flow_rate  Time  Dust_feed  Sampling  \\\n",
       "0        1              11.017769  34.500433   0.1      131.1        10   \n",
       "1        1               0.000000  61.536411   0.2      131.0        10   \n",
       "2        1               4.055263  72.332438   0.3      130.9        10   \n",
       "3        1               0.000000  77.133230   0.4      130.8        10   \n",
       "4        1               0.000000  79.470820   0.5      130.7        10   \n",
       "\n",
       "  Bias_type         RUL  \n",
       "0         b  177.313137  \n",
       "1         b  177.313137  \n",
       "2         b  177.313137  \n",
       "3         b  177.313137  \n",
       "4         b  177.313137  "
      ]
     },
     "execution_count": 3,
     "metadata": {},
     "output_type": "execute_result"
    }
   ],
   "source": [
    "dataset.head()"
   ]
  },
  {
   "cell_type": "markdown",
   "id": "54f6747f",
   "metadata": {},
   "source": [
    "## Getting the Insights"
   ]
  },
  {
   "cell_type": "code",
   "execution_count": 4,
   "id": "85e57d0e",
   "metadata": {},
   "outputs": [
    {
     "name": "stdout",
     "output_type": "stream",
     "text": [
      "<class 'pandas.core.frame.DataFrame'>\n",
      "RangeIndex: 42440 entries, 0 to 42439\n",
      "Data columns (total 8 columns):\n",
      " #   Column                 Non-Null Count  Dtype  \n",
      "---  ------                 --------------  -----  \n",
      " 0   Data_No                42440 non-null  int64  \n",
      " 1   Differential_pressure  42440 non-null  float64\n",
      " 2   Flow_rate              42440 non-null  float64\n",
      " 3   Time                   42440 non-null  float64\n",
      " 4   Dust_feed              42440 non-null  float64\n",
      " 5   Sampling               42440 non-null  int64  \n",
      " 6   Bias_type              42440 non-null  object \n",
      " 7   RUL                    42440 non-null  float64\n",
      "dtypes: float64(5), int64(2), object(1)\n",
      "memory usage: 2.6+ MB\n"
     ]
    }
   ],
   "source": [
    "dataset.info()"
   ]
  },
  {
   "cell_type": "code",
   "execution_count": 5,
   "id": "ba8c1077",
   "metadata": {},
   "outputs": [
    {
     "data": {
      "text/plain": [
       "array(['b', 'd', 'a', 'c'], dtype=object)"
      ]
     },
     "execution_count": 5,
     "metadata": {},
     "output_type": "execute_result"
    }
   ],
   "source": [
    "dataset[\"Bias_type\"].unique()"
   ]
  },
  {
   "cell_type": "code",
   "execution_count": 6,
   "id": "b4b659f1",
   "metadata": {},
   "outputs": [
    {
     "data": {
      "text/plain": [
       "Bias_type\n",
       "a    12030\n",
       "d    11976\n",
       "c     9666\n",
       "b     8768\n",
       "Name: count, dtype: int64"
      ]
     },
     "execution_count": 6,
     "metadata": {},
     "output_type": "execute_result"
    }
   ],
   "source": [
    "dataset[\"Bias_type\"].value_counts()"
   ]
  },
  {
   "cell_type": "markdown",
   "id": "b1b7ec4e",
   "metadata": {},
   "source": [
    "## Preprocessing"
   ]
  },
  {
   "cell_type": "code",
   "execution_count": 7,
   "id": "526aa8c3",
   "metadata": {},
   "outputs": [],
   "source": [
    "from sklearn.preprocessing import LabelEncoder\n",
    "le = LabelEncoder()"
   ]
  },
  {
   "cell_type": "code",
   "execution_count": 8,
   "id": "3bc906a9",
   "metadata": {},
   "outputs": [],
   "source": [
    "dataset[\"Bias_type\"] = le.fit_transform(dataset[\"Bias_type\"])"
   ]
  },
  {
   "cell_type": "code",
   "execution_count": 9,
   "id": "c6780aa3",
   "metadata": {},
   "outputs": [
    {
     "data": {
      "text/html": [
       "<div>\n",
       "<style scoped>\n",
       "    .dataframe tbody tr th:only-of-type {\n",
       "        vertical-align: middle;\n",
       "    }\n",
       "\n",
       "    .dataframe tbody tr th {\n",
       "        vertical-align: top;\n",
       "    }\n",
       "\n",
       "    .dataframe thead th {\n",
       "        text-align: right;\n",
       "    }\n",
       "</style>\n",
       "<table border=\"1\" class=\"dataframe\">\n",
       "  <thead>\n",
       "    <tr style=\"text-align: right;\">\n",
       "      <th></th>\n",
       "      <th>Data_No</th>\n",
       "      <th>Differential_pressure</th>\n",
       "      <th>Flow_rate</th>\n",
       "      <th>Time</th>\n",
       "      <th>Dust_feed</th>\n",
       "      <th>Sampling</th>\n",
       "      <th>Bias_type</th>\n",
       "      <th>RUL</th>\n",
       "    </tr>\n",
       "  </thead>\n",
       "  <tbody>\n",
       "    <tr>\n",
       "      <th>0</th>\n",
       "      <td>1</td>\n",
       "      <td>11.017769</td>\n",
       "      <td>34.500433</td>\n",
       "      <td>0.1</td>\n",
       "      <td>131.1</td>\n",
       "      <td>10</td>\n",
       "      <td>1</td>\n",
       "      <td>177.313137</td>\n",
       "    </tr>\n",
       "    <tr>\n",
       "      <th>1</th>\n",
       "      <td>1</td>\n",
       "      <td>0.000000</td>\n",
       "      <td>61.536411</td>\n",
       "      <td>0.2</td>\n",
       "      <td>131.0</td>\n",
       "      <td>10</td>\n",
       "      <td>1</td>\n",
       "      <td>177.313137</td>\n",
       "    </tr>\n",
       "    <tr>\n",
       "      <th>2</th>\n",
       "      <td>1</td>\n",
       "      <td>4.055263</td>\n",
       "      <td>72.332438</td>\n",
       "      <td>0.3</td>\n",
       "      <td>130.9</td>\n",
       "      <td>10</td>\n",
       "      <td>1</td>\n",
       "      <td>177.313137</td>\n",
       "    </tr>\n",
       "    <tr>\n",
       "      <th>3</th>\n",
       "      <td>1</td>\n",
       "      <td>0.000000</td>\n",
       "      <td>77.133230</td>\n",
       "      <td>0.4</td>\n",
       "      <td>130.8</td>\n",
       "      <td>10</td>\n",
       "      <td>1</td>\n",
       "      <td>177.313137</td>\n",
       "    </tr>\n",
       "    <tr>\n",
       "      <th>4</th>\n",
       "      <td>1</td>\n",
       "      <td>0.000000</td>\n",
       "      <td>79.470820</td>\n",
       "      <td>0.5</td>\n",
       "      <td>130.7</td>\n",
       "      <td>10</td>\n",
       "      <td>1</td>\n",
       "      <td>177.313137</td>\n",
       "    </tr>\n",
       "  </tbody>\n",
       "</table>\n",
       "</div>"
      ],
      "text/plain": [
       "   Data_No  Differential_pressure  Flow_rate  Time  Dust_feed  Sampling  \\\n",
       "0        1              11.017769  34.500433   0.1      131.1        10   \n",
       "1        1               0.000000  61.536411   0.2      131.0        10   \n",
       "2        1               4.055263  72.332438   0.3      130.9        10   \n",
       "3        1               0.000000  77.133230   0.4      130.8        10   \n",
       "4        1               0.000000  79.470820   0.5      130.7        10   \n",
       "\n",
       "   Bias_type         RUL  \n",
       "0          1  177.313137  \n",
       "1          1  177.313137  \n",
       "2          1  177.313137  \n",
       "3          1  177.313137  \n",
       "4          1  177.313137  "
      ]
     },
     "execution_count": 9,
     "metadata": {},
     "output_type": "execute_result"
    }
   ],
   "source": [
    "dataset.head()"
   ]
  },
  {
   "cell_type": "code",
   "execution_count": 10,
   "id": "77ccace3",
   "metadata": {},
   "outputs": [
    {
     "data": {
      "text/html": [
       "<div>\n",
       "<style scoped>\n",
       "    .dataframe tbody tr th:only-of-type {\n",
       "        vertical-align: middle;\n",
       "    }\n",
       "\n",
       "    .dataframe tbody tr th {\n",
       "        vertical-align: top;\n",
       "    }\n",
       "\n",
       "    .dataframe thead th {\n",
       "        text-align: right;\n",
       "    }\n",
       "</style>\n",
       "<table border=\"1\" class=\"dataframe\">\n",
       "  <thead>\n",
       "    <tr style=\"text-align: right;\">\n",
       "      <th></th>\n",
       "      <th>Data_No</th>\n",
       "      <th>Differential_pressure</th>\n",
       "      <th>Flow_rate</th>\n",
       "      <th>Time</th>\n",
       "      <th>Dust_feed</th>\n",
       "      <th>Sampling</th>\n",
       "      <th>Bias_type</th>\n",
       "      <th>RUL</th>\n",
       "    </tr>\n",
       "  </thead>\n",
       "  <tbody>\n",
       "    <tr>\n",
       "      <th>count</th>\n",
       "      <td>42440.000000</td>\n",
       "      <td>42440.000000</td>\n",
       "      <td>42440.000000</td>\n",
       "      <td>42440.000000</td>\n",
       "      <td>42440.000000</td>\n",
       "      <td>42440.0</td>\n",
       "      <td>42440.000000</td>\n",
       "      <td>42440.000000</td>\n",
       "    </tr>\n",
       "    <tr>\n",
       "      <th>mean</th>\n",
       "      <td>17.897785</td>\n",
       "      <td>163.975464</td>\n",
       "      <td>83.288828</td>\n",
       "      <td>61.583992</td>\n",
       "      <td>61.483992</td>\n",
       "      <td>10.0</td>\n",
       "      <td>1.508671</td>\n",
       "      <td>93.246559</td>\n",
       "    </tr>\n",
       "    <tr>\n",
       "      <th>std</th>\n",
       "      <td>10.159593</td>\n",
       "      <td>175.509640</td>\n",
       "      <td>2.383809</td>\n",
       "      <td>36.455758</td>\n",
       "      <td>36.455758</td>\n",
       "      <td>0.0</td>\n",
       "      <td>1.175265</td>\n",
       "      <td>52.636410</td>\n",
       "    </tr>\n",
       "    <tr>\n",
       "      <th>min</th>\n",
       "      <td>1.000000</td>\n",
       "      <td>0.000000</td>\n",
       "      <td>0.000000</td>\n",
       "      <td>0.100000</td>\n",
       "      <td>0.000000</td>\n",
       "      <td>10.0</td>\n",
       "      <td>0.000000</td>\n",
       "      <td>59.111492</td>\n",
       "    </tr>\n",
       "    <tr>\n",
       "      <th>25%</th>\n",
       "      <td>9.000000</td>\n",
       "      <td>17.156569</td>\n",
       "      <td>82.481050</td>\n",
       "      <td>30.400000</td>\n",
       "      <td>30.300000</td>\n",
       "      <td>10.0</td>\n",
       "      <td>0.000000</td>\n",
       "      <td>59.111492</td>\n",
       "    </tr>\n",
       "    <tr>\n",
       "      <th>50%</th>\n",
       "      <td>18.000000</td>\n",
       "      <td>82.436720</td>\n",
       "      <td>83.030616</td>\n",
       "      <td>60.700000</td>\n",
       "      <td>60.600000</td>\n",
       "      <td>10.0</td>\n",
       "      <td>2.000000</td>\n",
       "      <td>59.111492</td>\n",
       "    </tr>\n",
       "    <tr>\n",
       "      <th>75%</th>\n",
       "      <td>27.000000</td>\n",
       "      <td>295.834962</td>\n",
       "      <td>84.353664</td>\n",
       "      <td>91.100000</td>\n",
       "      <td>91.000000</td>\n",
       "      <td>10.0</td>\n",
       "      <td>3.000000</td>\n",
       "      <td>177.313137</td>\n",
       "    </tr>\n",
       "    <tr>\n",
       "      <th>max</th>\n",
       "      <td>35.000000</td>\n",
       "      <td>686.263564</td>\n",
       "      <td>85.924299</td>\n",
       "      <td>145.700000</td>\n",
       "      <td>145.600000</td>\n",
       "      <td>10.0</td>\n",
       "      <td>3.000000</td>\n",
       "      <td>177.313137</td>\n",
       "    </tr>\n",
       "  </tbody>\n",
       "</table>\n",
       "</div>"
      ],
      "text/plain": [
       "            Data_No  Differential_pressure     Flow_rate          Time  \\\n",
       "count  42440.000000           42440.000000  42440.000000  42440.000000   \n",
       "mean      17.897785             163.975464     83.288828     61.583992   \n",
       "std       10.159593             175.509640      2.383809     36.455758   \n",
       "min        1.000000               0.000000      0.000000      0.100000   \n",
       "25%        9.000000              17.156569     82.481050     30.400000   \n",
       "50%       18.000000              82.436720     83.030616     60.700000   \n",
       "75%       27.000000             295.834962     84.353664     91.100000   \n",
       "max       35.000000             686.263564     85.924299    145.700000   \n",
       "\n",
       "          Dust_feed  Sampling     Bias_type           RUL  \n",
       "count  42440.000000   42440.0  42440.000000  42440.000000  \n",
       "mean      61.483992      10.0      1.508671     93.246559  \n",
       "std       36.455758       0.0      1.175265     52.636410  \n",
       "min        0.000000      10.0      0.000000     59.111492  \n",
       "25%       30.300000      10.0      0.000000     59.111492  \n",
       "50%       60.600000      10.0      2.000000     59.111492  \n",
       "75%       91.000000      10.0      3.000000    177.313137  \n",
       "max      145.600000      10.0      3.000000    177.313137  "
      ]
     },
     "execution_count": 10,
     "metadata": {},
     "output_type": "execute_result"
    }
   ],
   "source": [
    "dataset.describe()"
   ]
  },
  {
   "cell_type": "markdown",
   "id": "2bbb42ef",
   "metadata": {},
   "source": [
    "## Some Visualizations for Checking the Skewness of the data"
   ]
  },
  {
   "cell_type": "code",
   "execution_count": 11,
   "id": "96c85067",
   "metadata": {},
   "outputs": [
    {
     "data": {
      "text/plain": [
       "<Axes: xlabel='Differential_pressure', ylabel='Count'>"
      ]
     },
     "execution_count": 11,
     "metadata": {},
     "output_type": "execute_result"
    },
    {
     "data": {
      "image/png": "[encoded data removed]",
      "text/plain": [
       "<Figure size 640x480 with 1 Axes>"
      ]
     },
     "metadata": {},
     "output_type": "display_data"
    }
   ],
   "source": [
    "sns.histplot(data=dataset, x = \"Differential_pressure\")"
   ]
  },
  {
   "cell_type": "code",
   "execution_count": 12,
   "id": "80718db5",
   "metadata": {},
   "outputs": [
    {
     "data": {
      "text/plain": [
       "<Axes: xlabel='Flow_rate', ylabel='Count'>"
      ]
     },
     "execution_count": 12,
     "metadata": {},
     "output_type": "execute_result"
    },
    {
     "data": {
      "image/png": "[encoded data removed]",
      "text/plain": [
       "<Figure size 640x480 with 1 Axes>"
      ]
     },
     "metadata": {},
     "output_type": "display_data"
    }
   ],
   "source": [
    "sns.histplot(data=dataset, x = \"Flow_rate\")"
   ]
  },
  {
   "cell_type": "code",
   "execution_count": 13,
   "id": "7e2a1288",
   "metadata": {},
   "outputs": [
    {
     "name": "stderr",
     "output_type": "stream",
     "text": [
      "c:\\Users\\Ravin D\\anaconda3\\envs\\MachineLearning\\lib\\site-packages\\seaborn\\axisgrid.py:118: UserWarning: The figure layout has changed to tight\n",
      "  self._figure.tight_layout(*args, **kwargs)\n"
     ]
    },
    {
     "data": {
      "text/plain": [
       "<seaborn.axisgrid.FacetGrid at 0x1f422df9f10>"
      ]
     },
     "execution_count": 13,
     "metadata": {},
     "output_type": "execute_result"
    },
    {
     "data": {
      "image/png": "[encoded data removed]",
      "text/plain": [
       "<Figure size 500x500 with 1 Axes>"
      ]
     },
     "metadata": {},
     "output_type": "display_data"
    }
   ],
   "source": [
    "sns.displot(data=dataset, x = \"Time\")"
   ]
  },
  {
   "cell_type": "code",
   "execution_count": 14,
   "id": "e7c53546",
   "metadata": {},
   "outputs": [
    {
     "data": {
      "text/plain": [
       "<Axes: xlabel='RUL', ylabel='Count'>"
      ]
     },
     "execution_count": 14,
     "metadata": {},
     "output_type": "execute_result"
    },
    {
     "data": {
      "image/png": "[encoded data removed]",
      "text/plain": [
       "<Figure size 640x480 with 1 Axes>"
      ]
     },
     "metadata": {},
     "output_type": "display_data"
    }
   ],
   "source": [
    "sns.histplot(x=\"RUL\", data=dataset)"
   ]
  },
  {
   "cell_type": "code",
   "execution_count": 15,
   "id": "fd603079",
   "metadata": {},
   "outputs": [
    {
     "data": {
      "text/plain": [
       "RUL\n",
       "59.111492     29582\n",
       "177.313137    11654\n",
       "118.223042     1204\n",
       "Name: count, dtype: int64"
      ]
     },
     "execution_count": 15,
     "metadata": {},
     "output_type": "execute_result"
    }
   ],
   "source": [
    "dataset[\"RUL\"].value_counts()"
   ]
  },
  {
   "cell_type": "code",
   "execution_count": 16,
   "id": "55da3583",
   "metadata": {},
   "outputs": [
    {
     "data": {
      "text/plain": [
       "array([177.3131368 ,  59.11149152, 118.2230421 ])"
      ]
     },
     "execution_count": 16,
     "metadata": {},
     "output_type": "execute_result"
    }
   ],
   "source": [
    "dataset[\"RUL\"].unique()"
   ]
  },
  {
   "cell_type": "code",
   "execution_count": 17,
   "id": "308747a3",
   "metadata": {},
   "outputs": [
    {
     "name": "stderr",
     "output_type": "stream",
     "text": [
      "c:\\Users\\Ravin D\\anaconda3\\envs\\MachineLearning\\lib\\site-packages\\seaborn\\axisgrid.py:118: UserWarning: The figure layout has changed to tight\n",
      "  self._figure.tight_layout(*args, **kwargs)\n"
     ]
    },
    {
     "data": {
      "text/plain": [
       "<seaborn.axisgrid.FacetGrid at 0x1f42392a4c0>"
      ]
     },
     "execution_count": 17,
     "metadata": {},
     "output_type": "execute_result"
    },
    {
     "data": {
      "image/png": "[encoded data removed]",
      "text/plain": [
       "<Figure size 500x500 with 1 Axes>"
      ]
     },
     "metadata": {},
     "output_type": "display_data"
    }
   ],
   "source": [
    "field = \"Dust_feed\"\n",
    "sns.displot(data=dataset, x = field)"
   ]
  },
  {
   "cell_type": "markdown",
   "id": "bf4de60d",
   "metadata": {},
   "source": [
    "## Dropping Unwanted Columns"
   ]
  },
  {
   "cell_type": "code",
   "execution_count": 18,
   "id": "e1c132a9",
   "metadata": {},
   "outputs": [
    {
     "data": {
      "text/html": [
       "<div>\n",
       "<style scoped>\n",
       "    .dataframe tbody tr th:only-of-type {\n",
       "        vertical-align: middle;\n",
       "    }\n",
       "\n",
       "    .dataframe tbody tr th {\n",
       "        vertical-align: top;\n",
       "    }\n",
       "\n",
       "    .dataframe thead th {\n",
       "        text-align: right;\n",
       "    }\n",
       "</style>\n",
       "<table border=\"1\" class=\"dataframe\">\n",
       "  <thead>\n",
       "    <tr style=\"text-align: right;\">\n",
       "      <th></th>\n",
       "      <th>Data_No</th>\n",
       "      <th>Differential_pressure</th>\n",
       "      <th>Flow_rate</th>\n",
       "      <th>Time</th>\n",
       "      <th>Dust_feed</th>\n",
       "      <th>Sampling</th>\n",
       "      <th>Bias_type</th>\n",
       "      <th>RUL</th>\n",
       "    </tr>\n",
       "  </thead>\n",
       "  <tbody>\n",
       "    <tr>\n",
       "      <th>0</th>\n",
       "      <td>1</td>\n",
       "      <td>11.017769</td>\n",
       "      <td>34.500433</td>\n",
       "      <td>0.1</td>\n",
       "      <td>131.1</td>\n",
       "      <td>10</td>\n",
       "      <td>1</td>\n",
       "      <td>177.313137</td>\n",
       "    </tr>\n",
       "    <tr>\n",
       "      <th>1</th>\n",
       "      <td>1</td>\n",
       "      <td>0.000000</td>\n",
       "      <td>61.536411</td>\n",
       "      <td>0.2</td>\n",
       "      <td>131.0</td>\n",
       "      <td>10</td>\n",
       "      <td>1</td>\n",
       "      <td>177.313137</td>\n",
       "    </tr>\n",
       "    <tr>\n",
       "      <th>2</th>\n",
       "      <td>1</td>\n",
       "      <td>4.055263</td>\n",
       "      <td>72.332438</td>\n",
       "      <td>0.3</td>\n",
       "      <td>130.9</td>\n",
       "      <td>10</td>\n",
       "      <td>1</td>\n",
       "      <td>177.313137</td>\n",
       "    </tr>\n",
       "    <tr>\n",
       "      <th>3</th>\n",
       "      <td>1</td>\n",
       "      <td>0.000000</td>\n",
       "      <td>77.133230</td>\n",
       "      <td>0.4</td>\n",
       "      <td>130.8</td>\n",
       "      <td>10</td>\n",
       "      <td>1</td>\n",
       "      <td>177.313137</td>\n",
       "    </tr>\n",
       "    <tr>\n",
       "      <th>4</th>\n",
       "      <td>1</td>\n",
       "      <td>0.000000</td>\n",
       "      <td>79.470820</td>\n",
       "      <td>0.5</td>\n",
       "      <td>130.7</td>\n",
       "      <td>10</td>\n",
       "      <td>1</td>\n",
       "      <td>177.313137</td>\n",
       "    </tr>\n",
       "  </tbody>\n",
       "</table>\n",
       "</div>"
      ],
      "text/plain": [
       "   Data_No  Differential_pressure  Flow_rate  Time  Dust_feed  Sampling  \\\n",
       "0        1              11.017769  34.500433   0.1      131.1        10   \n",
       "1        1               0.000000  61.536411   0.2      131.0        10   \n",
       "2        1               4.055263  72.332438   0.3      130.9        10   \n",
       "3        1               0.000000  77.133230   0.4      130.8        10   \n",
       "4        1               0.000000  79.470820   0.5      130.7        10   \n",
       "\n",
       "   Bias_type         RUL  \n",
       "0          1  177.313137  \n",
       "1          1  177.313137  \n",
       "2          1  177.313137  \n",
       "3          1  177.313137  \n",
       "4          1  177.313137  "
      ]
     },
     "execution_count": 18,
     "metadata": {},
     "output_type": "execute_result"
    }
   ],
   "source": [
    "dataset.head()"
   ]
  },
  {
   "cell_type": "code",
   "execution_count": 19,
   "id": "10661e4d",
   "metadata": {},
   "outputs": [
    {
     "data": {
      "text/plain": [
       "Data_No\n",
       "11    1457\n",
       "23    1405\n",
       "5     1392\n",
       "9     1391\n",
       "29    1377\n",
       "3     1354\n",
       "14    1349\n",
       "27    1335\n",
       "28    1332\n",
       "31    1327\n",
       "1     1312\n",
       "10    1311\n",
       "30    1302\n",
       "16    1278\n",
       "4     1268\n",
       "33    1263\n",
       "32    1261\n",
       "19    1256\n",
       "22    1217\n",
       "7     1202\n",
       "24    1178\n",
       "35    1175\n",
       "2     1168\n",
       "20    1167\n",
       "17    1151\n",
       "13    1149\n",
       "25    1130\n",
       "21    1114\n",
       "6     1073\n",
       "8     1015\n",
       "26    1012\n",
       "18     973\n",
       "12     971\n",
       "15     910\n",
       "34     865\n",
       "Name: count, dtype: int64"
      ]
     },
     "execution_count": 19,
     "metadata": {},
     "output_type": "execute_result"
    }
   ],
   "source": [
    "dataset[\"Data_No\"].value_counts()"
   ]
  },
  {
   "cell_type": "code",
   "execution_count": 20,
   "id": "00b427ab",
   "metadata": {},
   "outputs": [],
   "source": [
    "dataset.drop([\"Data_No\"], axis=1, inplace=True)"
   ]
  },
  {
   "cell_type": "code",
   "execution_count": 21,
   "id": "4ebdd75e",
   "metadata": {},
   "outputs": [
    {
     "data": {
      "text/html": [
       "<div>\n",
       "<style scoped>\n",
       "    .dataframe tbody tr th:only-of-type {\n",
       "        vertical-align: middle;\n",
       "    }\n",
       "\n",
       "    .dataframe tbody tr th {\n",
       "        vertical-align: top;\n",
       "    }\n",
       "\n",
       "    .dataframe thead th {\n",
       "        text-align: right;\n",
       "    }\n",
       "</style>\n",
       "<table border=\"1\" class=\"dataframe\">\n",
       "  <thead>\n",
       "    <tr style=\"text-align: right;\">\n",
       "      <th></th>\n",
       "      <th>Differential_pressure</th>\n",
       "      <th>Flow_rate</th>\n",
       "      <th>Time</th>\n",
       "      <th>Dust_feed</th>\n",
       "      <th>Sampling</th>\n",
       "      <th>Bias_type</th>\n",
       "      <th>RUL</th>\n",
       "    </tr>\n",
       "  </thead>\n",
       "  <tbody>\n",
       "    <tr>\n",
       "      <th>0</th>\n",
       "      <td>11.017769</td>\n",
       "      <td>34.500433</td>\n",
       "      <td>0.1</td>\n",
       "      <td>131.1</td>\n",
       "      <td>10</td>\n",
       "      <td>1</td>\n",
       "      <td>177.313137</td>\n",
       "    </tr>\n",
       "    <tr>\n",
       "      <th>1</th>\n",
       "      <td>0.000000</td>\n",
       "      <td>61.536411</td>\n",
       "      <td>0.2</td>\n",
       "      <td>131.0</td>\n",
       "      <td>10</td>\n",
       "      <td>1</td>\n",
       "      <td>177.313137</td>\n",
       "    </tr>\n",
       "    <tr>\n",
       "      <th>2</th>\n",
       "      <td>4.055263</td>\n",
       "      <td>72.332438</td>\n",
       "      <td>0.3</td>\n",
       "      <td>130.9</td>\n",
       "      <td>10</td>\n",
       "      <td>1</td>\n",
       "      <td>177.313137</td>\n",
       "    </tr>\n",
       "    <tr>\n",
       "      <th>3</th>\n",
       "      <td>0.000000</td>\n",
       "      <td>77.133230</td>\n",
       "      <td>0.4</td>\n",
       "      <td>130.8</td>\n",
       "      <td>10</td>\n",
       "      <td>1</td>\n",
       "      <td>177.313137</td>\n",
       "    </tr>\n",
       "    <tr>\n",
       "      <th>4</th>\n",
       "      <td>0.000000</td>\n",
       "      <td>79.470820</td>\n",
       "      <td>0.5</td>\n",
       "      <td>130.7</td>\n",
       "      <td>10</td>\n",
       "      <td>1</td>\n",
       "      <td>177.313137</td>\n",
       "    </tr>\n",
       "  </tbody>\n",
       "</table>\n",
       "</div>"
      ],
      "text/plain": [
       "   Differential_pressure  Flow_rate  Time  Dust_feed  Sampling  Bias_type  \\\n",
       "0              11.017769  34.500433   0.1      131.1        10          1   \n",
       "1               0.000000  61.536411   0.2      131.0        10          1   \n",
       "2               4.055263  72.332438   0.3      130.9        10          1   \n",
       "3               0.000000  77.133230   0.4      130.8        10          1   \n",
       "4               0.000000  79.470820   0.5      130.7        10          1   \n",
       "\n",
       "          RUL  \n",
       "0  177.313137  \n",
       "1  177.313137  \n",
       "2  177.313137  \n",
       "3  177.313137  \n",
       "4  177.313137  "
      ]
     },
     "execution_count": 21,
     "metadata": {},
     "output_type": "execute_result"
    }
   ],
   "source": [
    "dataset.head()"
   ]
  },
  {
   "cell_type": "code",
   "execution_count": 22,
   "id": "5c6baf78",
   "metadata": {},
   "outputs": [],
   "source": [
    "#[177.3131368 ,  59.11149152, 118.2230421 ]\n",
    "\n",
    "dataset.replace({\"RUL\":{177.3131368:0,118.2230421:1, 59.11149152:2}}, inplace=True)"
   ]
  },
  {
   "cell_type": "markdown",
   "id": "7462bdd1",
   "metadata": {},
   "source": [
    "## Splitting into Dependent and Independent Variables"
   ]
  },
  {
   "cell_type": "code",
   "execution_count": 23,
   "id": "ced1154c",
   "metadata": {},
   "outputs": [],
   "source": [
    "X = dataset.iloc[:,:-1].values\n",
    "y = dataset.iloc[:,-1].values"
   ]
  },
  {
   "cell_type": "markdown",
   "id": "bf26c909",
   "metadata": {},
   "source": [
    "## Splitting into Training and testing sets"
   ]
  },
  {
   "cell_type": "code",
   "execution_count": 24,
   "id": "3c36e9c6",
   "metadata": {},
   "outputs": [],
   "source": [
    "from sklearn.model_selection import train_test_split\n",
    "X_train, X_test, y_train, y_test = train_test_split(X,y,test_size=0.2, random_state=0)"
   ]
  },
  {
   "cell_type": "markdown",
   "id": "fc19c566",
   "metadata": {},
   "source": [
    "## Feature Scaling"
   ]
  },
  {
   "cell_type": "code",
   "execution_count": 25,
   "id": "ce72ab34",
   "metadata": {},
   "outputs": [],
   "source": [
    "from sklearn.preprocessing import StandardScaler\n",
    "sc = StandardScaler()\n",
    "X = sc.fit_transform(X)"
   ]
  },
  {
   "cell_type": "markdown",
   "id": "af3f2e7a",
   "metadata": {},
   "source": [
    "## Model Implementation"
   ]
  },
  {
   "cell_type": "code",
   "execution_count": 26,
   "id": "d086a018",
   "metadata": {},
   "outputs": [
    {
     "name": "stdout",
     "output_type": "stream",
     "text": [
      "The Model is ready to predict\n"
     ]
    }
   ],
   "source": [
    "from sklearn.ensemble import RandomForestClassifier\n",
    "model = RandomForestClassifier(criterion='entropy',n_estimators=50,random_state=0)\n",
    "model.fit(X_train,y_train.ravel())\n",
    "print(\"The Model is ready to predict\")"
   ]
  },
  {
   "cell_type": "markdown",
   "id": "124ea384",
   "metadata": {},
   "source": [
    "## Prediction of Testing set"
   ]
  },
  {
   "cell_type": "code",
   "execution_count": 27,
   "id": "39d88186",
   "metadata": {},
   "outputs": [],
   "source": [
    "y_pred = model.predict(X_test)"
   ]
  },
  {
   "cell_type": "markdown",
   "id": "9a2c9313",
   "metadata": {},
   "source": [
    "## Checking the Accuracy"
   ]
  },
  {
   "cell_type": "code",
   "execution_count": 28,
   "id": "f6e84262",
   "metadata": {},
   "outputs": [
    {
     "name": "stdout",
     "output_type": "stream",
     "text": [
      "Accuracy:  97.64373232799247\n"
     ]
    }
   ],
   "source": [
    "from sklearn.metrics import accuracy_score\n",
    "print(\"Accuracy: \",accuracy_score(y_test,y_pred)*100)"
   ]
  },
  {
   "cell_type": "markdown",
   "id": "3fc1b382",
   "metadata": {},
   "source": [
    "# Checking with my Automate Function"
   ]
  },
  {
   "cell_type": "code",
   "execution_count": 29,
   "id": "9c214cde",
   "metadata": {},
   "outputs": [
    {
     "name": "stdout",
     "output_type": "stream",
     "text": [
      "Checking n_estimators = 40 for Random Forest Classifier\n",
      "Checking n_estimators = 41 for Random Forest Classifier\n",
      "Checking n_estimators = 42 for Random Forest Classifier\n",
      "Checking n_estimators = 43 for Random Forest Classifier\n",
      "Checking n_estimators = 44 for Random Forest Classifier\n",
      "Checking n_estimators = 45 for Random Forest Classifier\n",
      "Checking n_estimators = 46 for Random Forest Classifier\n",
      "Checking n_estimators = 47 for Random Forest Classifier\n",
      "Checking n_estimators = 48 for Random Forest Classifier\n",
      "Checking n_estimators = 49 for Random Forest Classifier\n",
      "Checking n_estimators = 50 for Random Forest Classifier\n",
      "Checking n_estimators = 51 for Random Forest Classifier\n",
      "Checking n_estimators = 52 for Random Forest Classifier\n",
      "Checking n_estimators = 53 for Random Forest Classifier\n",
      "Checking n_estimators = 54 for Random Forest Classifier\n",
      "Checking n_estimators = 55 for Random Forest Classifier\n",
      "Checking n_estimators = 56 for Random Forest Classifier\n",
      "Checking n_estimators = 57 for Random Forest Classifier\n",
      "Checking n_estimators = 58 for Random Forest Classifier\n",
      "Checking n_estimators = 59 for Random Forest Classifier\n",
      "Checking n_estimators = 60 for Random Forest Classifier\n",
      "Checking n_estimators = 61 for Random Forest Classifier\n",
      "Checking n_estimators = 62 for Random Forest Classifier\n",
      "Checking n_estimators = 63 for Random Forest Classifier\n",
      "Checking n_estimators = 64 for Random Forest Classifier\n",
      "Checking n_estimators = 65 for Random Forest Classifier\n",
      "Checking n_estimators = 66 for Random Forest Classifier\n",
      "Checking n_estimators = 67 for Random Forest Classifier\n",
      "Checking n_estimators = 68 for Random Forest Classifier\n",
      "Checking n_estimators = 69 for Random Forest Classifier\n"
     ]
    },
    {
     "data": {
      "text/plain": [
       "[0.9782045240339302, 60]"
      ]
     },
     "execution_count": 29,
     "metadata": {},
     "output_type": "execute_result"
    }
   ],
   "source": [
    "from automate import find_best_n_estimators\n",
    "find_best_n_estimators(X_train, y_train, X_test, y_test, 40, 70, step = 1, rs = 0)"
   ]
  },
  {
   "cell_type": "markdown",
   "id": "e211a903",
   "metadata": {},
   "source": [
    "## Testing with n_estimators = 60"
   ]
  },
  {
   "cell_type": "code",
   "execution_count": 30,
   "id": "20b293c7",
   "metadata": {},
   "outputs": [
    {
     "name": "stdout",
     "output_type": "stream",
     "text": [
      "Accuracy:  97.82045240339302\n"
     ]
    }
   ],
   "source": [
    "from sklearn.ensemble import RandomForestClassifier\n",
    "model = RandomForestClassifier(criterion='entropy',n_estimators=60,random_state=0)\n",
    "model.fit(X_train,y_train.ravel())\n",
    "\n",
    "y_pred = model.predict(X_test)\n",
    "\n",
    "from sklearn.metrics import accuracy_score\n",
    "print(\"Accuracy: \",accuracy_score(y_test,y_pred)*100)"
   ]
  }
 ],
 "metadata": {
  "kernelspec": {
   "display_name": "Python 3 (ipykernel)",
   "language": "python",
   "name": "python3"
  },
  "language_info": {
   "codemirror_mode": {
    "name": "ipython",
    "version": 3
   },
   "file_extension": ".py",
   "mimetype": "text/x-python",
   "name": "python",
   "nbconvert_exporter": "python",
   "pygments_lexer": "ipython3",
   "version": "3.8.17"
  }
 },
 "nbformat": 4,
 "nbformat_minor": 5
}
